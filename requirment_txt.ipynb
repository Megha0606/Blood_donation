{
  "nbformat": 4,
  "nbformat_minor": 0,
  "metadata": {
    "colab": {
      "name": "requirment.txt",
      "provenance": [],
      "collapsed_sections": []
    },
    "kernelspec": {
      "name": "python3",
      "display_name": "Python 3"
    }
  },
  "cells": [
    {
      "cell_type": "code",
      "metadata": {
        "id": "m10CIecM1Pqr"
      },
      "source": [
        "Flask==1.1.1\r\n",
        "gunicorn==19.9.0\r\n",
        "itsdangerous==1.1.0\r\n",
        "Jinja2==2.10.1\r\n",
        "MarkupSafe==1.1.1\r\n",
        "Werkzeug==0.15.5\r\n",
        "numpy>=1.9.2\r\n",
        "scipy>=0.15.1\r\n",
        "scikit-learn>=0.18\r\n",
        "matplotlib>=1.4.3\r\n",
        "pandas>=0.19\r\n"
      ],
      "execution_count": null,
      "outputs": []
    }
  ]
}